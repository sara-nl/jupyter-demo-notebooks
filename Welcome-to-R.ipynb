{
 "cells": [
  {
   "cell_type": "markdown",
   "metadata": {},
   "source": [
    "<div style=\"text-align: center\"><img width=300px src=\"https://upload.wikimedia.org/wikipedia/commons/thumb/1/1b/R_logo.svg/200px-R_logo.svg.png\"></div>"
   ]
  },
  {
   "cell_type": "markdown",
   "metadata": {},
   "source": [
    "# R and Jupyter"
   ]
  },
  {
   "cell_type": "markdown",
   "metadata": {},
   "source": [
    "This notebook is here to demonstrate the integration capabilities of R with the Jupyter Project. \n",
    "The R kernel is still young, so miss a lot of feature, but can still display inline graphincs in notebooks.\n",
    "\n",
    "For simple comparison we reproduce here some part of the famous `demo(graphics)` command of R in the Jupyter notebook, \n",
    "Where the commend have been converted to markdown cells."
   ]
  },
  {
   "cell_type": "markdown",
   "metadata": {},
   "source": [
    " # R demo"
   ]
  },
  {
   "cell_type": "markdown",
   "metadata": {},
   "source": [
    "Here is some code which illustrates some of the differences between\n",
    "R and S graphics capabilities.  Note that colors are generally specified\n",
    "by a character string name (taken from the X11 rgb.txt file) and that line\n",
    "textures are given similarly.  The parameter \"bg\" sets the background\n",
    "parameter for the plot and there is also an \"fg\" parameter which sets\n",
    "the foreground color."
   ]
  },
  {
   "cell_type": "code",
   "execution_count": null,
   "metadata": {
    "collapsed": false
   },
   "outputs": [],
   "source": [
    "require(datasets)\n",
    "\n",
    "require(grDevices); require(graphics)"
   ]
  },
  {
   "cell_type": "code",
   "execution_count": null,
   "metadata": {
    "collapsed": false
   },
   "outputs": [],
   "source": [
    "x <- stats::rnorm(50)\n",
    "opar <- par(bg = \"white\")\n",
    "plot(x, ann = FALSE, type = \"n\") +\n",
    "abline(h = 0, col = gray(.90)) +\n",
    "lines(x, col = \"green4\", lty = \"dotted\") +\n",
    "points(x, bg = \"limegreen\", pch = 21) +\n",
    "title(main = \"Simple Use of Color In a Plot\",\n",
    "       xlab = \"Just a Whisper of a Label\",\n",
    "       col.main = \"blue\", col.lab = gray(.8),\n",
    "       cex.main = 1.2, cex.lab = 1.0, font.main = 4, font.lab = 3)"
   ]
  },
  {
   "cell_type": "markdown",
   "metadata": {},
   "source": [
    "## A little color wheel.\n",
    "\n",
    "This code just plots equally spaced hues in\n",
    "a pie chart. If you have a cheap SVGA monitor (like me) you will\n",
    "probably find that numerically equispaced does not mean visually\n",
    "equispaced.  On my display at home, these colors tend to cluster at\n",
    "the RGB primaries.  On the other hand on the SGI Indy at work the\n",
    "effect is near perfect"
   ]
  },
  {
   "cell_type": "code",
   "execution_count": null,
   "metadata": {
    "collapsed": false
   },
   "outputs": [],
   "source": [
    "par(bg = \"gray\")\n",
    "\n",
    "pie(rep(1,24), col = rainbow(24), radius = 0.9) +\n",
    "title(main = \"A Sample Color Wheel\", cex.main = 1.4, font.main = 3) +\n",
    "title(xlab = \"(Use this as a test of monitor linearity)\",\n",
    "      cex.lab = 0.8, font.lab = 3)"
   ]
  },
  {
   "cell_type": "markdown",
   "metadata": {},
   "source": [
    "# A scatterplot matrix\n",
    "The good old Iris data (yet again)"
   ]
  },
  {
   "cell_type": "code",
   "execution_count": null,
   "metadata": {
    "collapsed": false
   },
   "outputs": [],
   "source": [
    "pairs(iris[1:4], main=\"Edgar Anderson's Iris Data\", pch=21,\n",
    "       bg = c(\"red\", \"green3\", \"blue\")[unclass(iris$Species)])"
   ]
  },
  {
   "cell_type": "code",
   "execution_count": null,
   "metadata": {
    "collapsed": false
   },
   "outputs": [],
   "source": [
    "# Goals: A first look at R objects - vectors, lists, matrices, data frames.\n",
    "\n",
    "# To make vectors \"x\" \"y\" \"year\" and \"names\"\n",
    "x <- c(2,3,7,9)\n",
    "y <- c(9,7,3,2)\n",
    "year <- 1990:1993\n",
    "names <- c(\"payal\", \"shraddha\", \"kritika\", \"itida\")\n",
    "# Accessing the 1st and last elements of y --\n",
    "y[1]\n",
    "y[length(y)]\n",
    "\n",
    "# To make a list \"person\" --\n",
    "person <- list(name=\"payal\", x=2, y=9, year=1990)\n",
    "person\n",
    "# Accessing things inside a list --\n",
    "person$name\n",
    "person$x\n",
    "\n",
    "# To make a matrix, pasting together the columns \"year\" \"x\" and \"y\"\n",
    "# The verb cbind() stands for \"column bind\"\n",
    "cbind(year, x, y)\n",
    "\n",
    "# To make a \"data frame\", which is a list of vectors of the same length --\n",
    "D <- data.frame(names, year, x, y)\n",
    "nrow(D)\n",
    "# Accessing one of these vectors\n",
    "D$names\n",
    "# Accessing the last element of this vector\n",
    "D$names[nrow(D)]\n",
    "# Or equally,\n",
    "D$names[length(D$names)]"
   ]
  }
 ],
 "metadata": {
  "kernelspec": {
   "display_name": "R",
   "language": "R",
   "name": "ir"
  },
  "language_info": {
   "codemirror_mode": "r",
   "file_extension": ".r",
   "mimetype": "text/x-r-source",
   "name": "R",
   "pygments_lexer": "r",
   "version": "3.3.2"
  }
 },
 "nbformat": 4,
 "nbformat_minor": 0
}
